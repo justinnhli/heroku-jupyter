{
 "cells": [
  {
   "cell_type": "code",
   "execution_count": null,
   "metadata": {},
   "outputs": [],
   "source": [
    "import pandas as pd\n",
    "from bokeh.plotting import ColumnDataSource, figure, show\n",
    "from bokeh.models import HoverTool\n",
    "from bokeh.io import output_notebook\n",
    "\n",
    "output_notebook()"
   ]
  },
  {
   "cell_type": "code",
   "execution_count": null,
   "metadata": {},
   "outputs": [],
   "source": [
    "# create the data\n",
    "df = pd.DataFrame([[i, i**2] for i in range(15)], columns=['x', 'y'])\n",
    "\n",
    "# plot the data\n",
    "f = figure(width=600)\n",
    "renderer = f.x(\n",
    "    x='x',\n",
    "    y='y',\n",
    "    size=10,\n",
    "    line_width=3,\n",
    "    source=ColumnDataSource(df),\n",
    ")\n",
    "f.add_tools(HoverTool(renderers=[renderer], tooltips=[\n",
    "    ('x', '@x'),\n",
    "    ('y', '@y'),\n",
    "]))\n",
    "show(f)"
   ]
  }
 ],
 "metadata": {
  "kernelspec": {
   "display_name": "Python 3",
   "language": "python",
   "name": "python3"
  },
  "language_info": {
   "codemirror_mode": {
    "name": "ipython",
    "version": 3
   },
   "file_extension": ".py",
   "mimetype": "text/x-python",
   "name": "python",
   "nbconvert_exporter": "python",
   "pygments_lexer": "ipython3",
   "version": "3.6.1"
  }
 },
 "nbformat": 4,
 "nbformat_minor": 2
}
